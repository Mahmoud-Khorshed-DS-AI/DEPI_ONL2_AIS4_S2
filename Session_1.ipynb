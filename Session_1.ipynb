{
 "cells": [
  {
   "cell_type": "code",
   "execution_count": 2,
   "id": "01af77c3",
   "metadata": {},
   "outputs": [
    {
     "name": "stdout",
     "output_type": "stream",
     "text": [
      "Python 3.11.5\n"
     ]
    }
   ],
   "source": [
    "!python --version"
   ]
  },
  {
   "cell_type": "code",
   "execution_count": null,
   "id": "67cb0cb5",
   "metadata": {},
   "outputs": [],
   "source": []
  },
  {
   "cell_type": "markdown",
   "id": "a1483887",
   "metadata": {},
   "source": [
    "the result of multi is 15"
   ]
  },
  {
   "cell_type": "markdown",
   "id": "b20be372",
   "metadata": {},
   "source": [
    "# **Welcome DEPI Round 2**\n",
    "\n",
    "## Online Group\n",
    "**IBM Data Science**\n",
    "\n",
    "By Mahmoud Khorshed\n",
    "\n",
    "- Week 1\n",
    "    - Week 2  \n",
    "    \n",
    "✔    "
   ]
  },
  {
   "cell_type": "code",
   "execution_count": 3,
   "id": "8ca8b025",
   "metadata": {
    "scrolled": true
   },
   "outputs": [
    {
     "name": "stdout",
     "output_type": "stream",
     "text": [
      "15\n"
     ]
    }
   ],
   "source": [
    "print(5*3)"
   ]
  },
  {
   "cell_type": "code",
   "execution_count": null,
   "id": "fb1ebbd7",
   "metadata": {},
   "outputs": [],
   "source": []
  }
 ],
 "metadata": {
  "kernelspec": {
   "display_name": "Python 3 (ipykernel)",
   "language": "python",
   "name": "python3"
  },
  "language_info": {
   "codemirror_mode": {
    "name": "ipython",
    "version": 3
   },
   "file_extension": ".py",
   "mimetype": "text/x-python",
   "name": "python",
   "nbconvert_exporter": "python",
   "pygments_lexer": "ipython3",
   "version": "3.11.5"
  }
 },
 "nbformat": 4,
 "nbformat_minor": 5
}
